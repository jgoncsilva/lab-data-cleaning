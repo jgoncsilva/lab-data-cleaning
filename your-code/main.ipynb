{
 "cells": [
  {
   "cell_type": "markdown",
   "metadata": {},
   "source": [
    "#### 1. Import pandas library"
   ]
  },
  {
   "cell_type": "code",
   "execution_count": 1,
   "metadata": {},
   "outputs": [],
   "source": [
    "import pandas as pd"
   ]
  },
  {
   "cell_type": "markdown",
   "metadata": {},
   "source": [
    "#### 2. Import users table:"
   ]
  },
  {
   "cell_type": "code",
   "execution_count": 7,
   "metadata": {},
   "outputs": [
    {
     "output_type": "execute_result",
     "data": {
      "text/plain": "          Id  Reputation         CreationDate     DisplayName  \\\n40320  55743           1  2014-09-13 21:03:50       AussieMeg   \n40321  55744           6  2014-09-13 21:39:30       Mia Maria   \n40322  55745         101  2014-09-13 23:45:27    tronbabylove   \n40323  55746         106  2014-09-14 00:29:41             GPP   \n40324  55747           1  2014-09-14 01:01:44  Shivam Agrawal   \n\n            LastAccessDate WebsiteUrl       Location  \\\n40320  2014-09-13 21:18:52        NaN            NaN   \n40321  2014-09-13 21:39:30        NaN            NaN   \n40322  2014-09-13 23:45:27        NaN  United States   \n40323  2014-09-14 02:05:17        NaN            NaN   \n40324  2014-09-14 01:19:04        NaN          India   \n\n                                                 AboutMe  Views  UpVotes  \\\n40320                                                NaN      0        0   \n40321                                                NaN      1        0   \n40322                                                NaN      0        0   \n40323  <p>Stats noobie, product, marketing &amp; medi...      1        0   \n40324                       <p>Maths Enthusiast </p>\\r\\n      0        0   \n\n       DownVotes  AccountId  Age  \\\n40320          0    5026902  NaN   \n40321          0    5026998  NaN   \n40322          0     481766  NaN   \n40323          0     976289  NaN   \n40324          0    5027354  NaN   \n\n                                         ProfileImageUrl  \n40320  http://graph.facebook.com/665821703/picture?ty...  \n40321                                                NaN  \n40322  https://www.gravatar.com/avatar/faa7a3fdbd8308...  \n40323  https://www.gravatar.com/avatar/6d9e9fa6b783a3...  \n40324  https://lh4.googleusercontent.com/-ZsXhwVaFmiY...  ",
      "text/html": "<div>\n<style scoped>\n    .dataframe tbody tr th:only-of-type {\n        vertical-align: middle;\n    }\n\n    .dataframe tbody tr th {\n        vertical-align: top;\n    }\n\n    .dataframe thead th {\n        text-align: right;\n    }\n</style>\n<table border=\"1\" class=\"dataframe\">\n  <thead>\n    <tr style=\"text-align: right;\">\n      <th></th>\n      <th>Id</th>\n      <th>Reputation</th>\n      <th>CreationDate</th>\n      <th>DisplayName</th>\n      <th>LastAccessDate</th>\n      <th>WebsiteUrl</th>\n      <th>Location</th>\n      <th>AboutMe</th>\n      <th>Views</th>\n      <th>UpVotes</th>\n      <th>DownVotes</th>\n      <th>AccountId</th>\n      <th>Age</th>\n      <th>ProfileImageUrl</th>\n    </tr>\n  </thead>\n  <tbody>\n    <tr>\n      <th>40320</th>\n      <td>55743</td>\n      <td>1</td>\n      <td>2014-09-13 21:03:50</td>\n      <td>AussieMeg</td>\n      <td>2014-09-13 21:18:52</td>\n      <td>NaN</td>\n      <td>NaN</td>\n      <td>NaN</td>\n      <td>0</td>\n      <td>0</td>\n      <td>0</td>\n      <td>5026902</td>\n      <td>NaN</td>\n      <td>http://graph.facebook.com/665821703/picture?ty...</td>\n    </tr>\n    <tr>\n      <th>40321</th>\n      <td>55744</td>\n      <td>6</td>\n      <td>2014-09-13 21:39:30</td>\n      <td>Mia Maria</td>\n      <td>2014-09-13 21:39:30</td>\n      <td>NaN</td>\n      <td>NaN</td>\n      <td>NaN</td>\n      <td>1</td>\n      <td>0</td>\n      <td>0</td>\n      <td>5026998</td>\n      <td>NaN</td>\n      <td>NaN</td>\n    </tr>\n    <tr>\n      <th>40322</th>\n      <td>55745</td>\n      <td>101</td>\n      <td>2014-09-13 23:45:27</td>\n      <td>tronbabylove</td>\n      <td>2014-09-13 23:45:27</td>\n      <td>NaN</td>\n      <td>United States</td>\n      <td>NaN</td>\n      <td>0</td>\n      <td>0</td>\n      <td>0</td>\n      <td>481766</td>\n      <td>NaN</td>\n      <td>https://www.gravatar.com/avatar/faa7a3fdbd8308...</td>\n    </tr>\n    <tr>\n      <th>40323</th>\n      <td>55746</td>\n      <td>106</td>\n      <td>2014-09-14 00:29:41</td>\n      <td>GPP</td>\n      <td>2014-09-14 02:05:17</td>\n      <td>NaN</td>\n      <td>NaN</td>\n      <td>&lt;p&gt;Stats noobie, product, marketing &amp;amp; medi...</td>\n      <td>1</td>\n      <td>0</td>\n      <td>0</td>\n      <td>976289</td>\n      <td>NaN</td>\n      <td>https://www.gravatar.com/avatar/6d9e9fa6b783a3...</td>\n    </tr>\n    <tr>\n      <th>40324</th>\n      <td>55747</td>\n      <td>1</td>\n      <td>2014-09-14 01:01:44</td>\n      <td>Shivam Agrawal</td>\n      <td>2014-09-14 01:19:04</td>\n      <td>NaN</td>\n      <td>India</td>\n      <td>&lt;p&gt;Maths Enthusiast &lt;/p&gt;\\r\\n</td>\n      <td>0</td>\n      <td>0</td>\n      <td>0</td>\n      <td>5027354</td>\n      <td>NaN</td>\n      <td>https://lh4.googleusercontent.com/-ZsXhwVaFmiY...</td>\n    </tr>\n  </tbody>\n</table>\n</div>"
     },
     "metadata": {},
     "execution_count": 7
    }
   ],
   "source": [
    "ust = pd.read_csv('users_table.csv')\n",
    "ust.tail()"
   ]
  },
  {
   "cell_type": "markdown",
   "metadata": {},
   "source": [
    "#### 3. Rename Id column to userId"
   ]
  },
  {
   "cell_type": "code",
   "execution_count": 10,
   "metadata": {},
   "outputs": [
    {
     "output_type": "execute_result",
     "data": {
      "text/plain": "   userId  Reputation         CreationDate   DisplayName       LastAccessDate  \\\n0      -1           1  2010-07-19 06:55:26     Community  2010-07-19 06:55:26   \n1       2         101  2010-07-19 14:01:36  Geoff Dalgas  2013-11-12 22:07:23   \n2       3         101  2010-07-19 15:34:50  Jarrod Dixon  2014-08-08 06:42:58   \n3       4         101  2010-07-19 19:03:27        Emmett  2014-01-02 09:31:02   \n4       5        6792  2010-07-19 19:03:57         Shane  2014-08-13 00:23:47   \n\n                       WebsiteUrl            Location  \\\n0  http://meta.stackexchange.com/  on the server farm   \n1        http://stackoverflow.com       Corvallis, OR   \n2        http://stackoverflow.com        New York, NY   \n3    http://minesweeperonline.com   San Francisco, CA   \n4         http://www.statalgo.com        New York, NY   \n\n                                             AboutMe  Views  UpVotes  \\\n0  <p>Hi, I'm not really a person.</p>\\r\\n\\r\\n<p>...      0     5007   \n1  <p>Developer on the StackOverflow team.  Find ...     25        3   \n2  <p><a href=\"http://blog.stackoverflow.com/2009...     22       19   \n3  <p>currently at a startup in SF</p>\\r\\n\\r\\n<p>...     11        0   \n4  <p>Quantitative researcher focusing on statist...   1145      662   \n\n   DownVotes  AccountId   Age                     ProfileImageUrl  \n0       1920         -1   NaN                                 NaN  \n1          0          2  37.0                                 NaN  \n2          0          3  35.0                                 NaN  \n3          0       1998  28.0  http://i.stack.imgur.com/d1oHX.jpg  \n4          5      54503  35.0                                 NaN  ",
      "text/html": "<div>\n<style scoped>\n    .dataframe tbody tr th:only-of-type {\n        vertical-align: middle;\n    }\n\n    .dataframe tbody tr th {\n        vertical-align: top;\n    }\n\n    .dataframe thead th {\n        text-align: right;\n    }\n</style>\n<table border=\"1\" class=\"dataframe\">\n  <thead>\n    <tr style=\"text-align: right;\">\n      <th></th>\n      <th>userId</th>\n      <th>Reputation</th>\n      <th>CreationDate</th>\n      <th>DisplayName</th>\n      <th>LastAccessDate</th>\n      <th>WebsiteUrl</th>\n      <th>Location</th>\n      <th>AboutMe</th>\n      <th>Views</th>\n      <th>UpVotes</th>\n      <th>DownVotes</th>\n      <th>AccountId</th>\n      <th>Age</th>\n      <th>ProfileImageUrl</th>\n    </tr>\n  </thead>\n  <tbody>\n    <tr>\n      <th>0</th>\n      <td>-1</td>\n      <td>1</td>\n      <td>2010-07-19 06:55:26</td>\n      <td>Community</td>\n      <td>2010-07-19 06:55:26</td>\n      <td>http://meta.stackexchange.com/</td>\n      <td>on the server farm</td>\n      <td>&lt;p&gt;Hi, I'm not really a person.&lt;/p&gt;\\r\\n\\r\\n&lt;p&gt;...</td>\n      <td>0</td>\n      <td>5007</td>\n      <td>1920</td>\n      <td>-1</td>\n      <td>NaN</td>\n      <td>NaN</td>\n    </tr>\n    <tr>\n      <th>1</th>\n      <td>2</td>\n      <td>101</td>\n      <td>2010-07-19 14:01:36</td>\n      <td>Geoff Dalgas</td>\n      <td>2013-11-12 22:07:23</td>\n      <td>http://stackoverflow.com</td>\n      <td>Corvallis, OR</td>\n      <td>&lt;p&gt;Developer on the StackOverflow team.  Find ...</td>\n      <td>25</td>\n      <td>3</td>\n      <td>0</td>\n      <td>2</td>\n      <td>37.0</td>\n      <td>NaN</td>\n    </tr>\n    <tr>\n      <th>2</th>\n      <td>3</td>\n      <td>101</td>\n      <td>2010-07-19 15:34:50</td>\n      <td>Jarrod Dixon</td>\n      <td>2014-08-08 06:42:58</td>\n      <td>http://stackoverflow.com</td>\n      <td>New York, NY</td>\n      <td>&lt;p&gt;&lt;a href=\"http://blog.stackoverflow.com/2009...</td>\n      <td>22</td>\n      <td>19</td>\n      <td>0</td>\n      <td>3</td>\n      <td>35.0</td>\n      <td>NaN</td>\n    </tr>\n    <tr>\n      <th>3</th>\n      <td>4</td>\n      <td>101</td>\n      <td>2010-07-19 19:03:27</td>\n      <td>Emmett</td>\n      <td>2014-01-02 09:31:02</td>\n      <td>http://minesweeperonline.com</td>\n      <td>San Francisco, CA</td>\n      <td>&lt;p&gt;currently at a startup in SF&lt;/p&gt;\\r\\n\\r\\n&lt;p&gt;...</td>\n      <td>11</td>\n      <td>0</td>\n      <td>0</td>\n      <td>1998</td>\n      <td>28.0</td>\n      <td>http://i.stack.imgur.com/d1oHX.jpg</td>\n    </tr>\n    <tr>\n      <th>4</th>\n      <td>5</td>\n      <td>6792</td>\n      <td>2010-07-19 19:03:57</td>\n      <td>Shane</td>\n      <td>2014-08-13 00:23:47</td>\n      <td>http://www.statalgo.com</td>\n      <td>New York, NY</td>\n      <td>&lt;p&gt;Quantitative researcher focusing on statist...</td>\n      <td>1145</td>\n      <td>662</td>\n      <td>5</td>\n      <td>54503</td>\n      <td>35.0</td>\n      <td>NaN</td>\n    </tr>\n  </tbody>\n</table>\n</div>"
     },
     "metadata": {},
     "execution_count": 10
    }
   ],
   "source": [
    "ust = ust.rename(columns = {'Id': 'userId'})\n",
    "ust.head()"
   ]
  },
  {
   "cell_type": "markdown",
   "metadata": {},
   "source": [
    "#### 4. Import posts table:"
   ]
  },
  {
   "cell_type": "code",
   "execution_count": 11,
   "metadata": {},
   "outputs": [
    {
     "output_type": "execute_result",
     "data": {
      "text/plain": "          Id  PostTypeId  AcceptedAnswerId          CreaionDate  Score  \\\n39995  48321           2               NaN  2013-01-23 09:00:01      0   \n39996  48322           2               NaN  2013-01-23 09:09:34      3   \n39997  48323           2               NaN  2013-01-23 09:16:44      1   \n39998  48324           2               NaN  2013-01-23 09:36:07      3   \n39999  48325           1               NaN  2013-01-23 09:44:07     -1   \n\n       ViewCount                                               Body  \\\n39995        NaN  <p>you can use the matlab codes for svm and co...   \n39996        NaN  <p>I use <a href=\"http://www.gnu.org/software/...   \n39997        NaN  <p>If I understand your question correctly, yo...   \n39998        NaN  <p>Doesn't really help you with your question,...   \n39999      116.0  <p>I have 10 vectors each having 100,000 point...   \n\n       OwnerUserId      LasActivityDate  \\\n39995      19966.0  2013-01-23 09:00:01   \n39996        892.0  2013-01-23 13:13:30   \n39997       2020.0  2013-01-23 09:16:44   \n39998      19914.0  2013-01-23 09:36:07   \n39999      19968.0  2013-02-22 11:23:54   \n\n                                                   Title  ... AnswerCount  \\\n39995                                                NaN  ...         NaN   \n39996                                                NaN  ...         NaN   \n39997                                                NaN  ...         NaN   \n39998                                                NaN  ...         NaN   \n39999  are data sets obtained from a Normal distribut...  ...         2.0   \n\n       CommentCount  FavoriteCount  LastEditorUserId         LastEditDate  \\\n39995             0            NaN               NaN                  NaN   \n39996             2            NaN             892.0  2013-01-23 13:13:30   \n39997             0            NaN               NaN                  NaN   \n39998             0            NaN               NaN                  NaN   \n39999             4            NaN               NaN                  NaN   \n\n      CommunityOwnedDate ParentId  ClosedDate OwnerDisplayName  \\\n39995                NaN  45118.0         NaN              NaN   \n39996                NaN  48311.0         NaN              NaN   \n39997                NaN  48247.0         NaN              NaN   \n39998                NaN  48297.0         NaN              NaN   \n39999                NaN      NaN         NaN              NaN   \n\n      LastEditorDisplayName  \n39995                   NaN  \n39996                   NaN  \n39997                   NaN  \n39998                   NaN  \n39999                   NaN  \n\n[5 rows x 21 columns]",
      "text/html": "<div>\n<style scoped>\n    .dataframe tbody tr th:only-of-type {\n        vertical-align: middle;\n    }\n\n    .dataframe tbody tr th {\n        vertical-align: top;\n    }\n\n    .dataframe thead th {\n        text-align: right;\n    }\n</style>\n<table border=\"1\" class=\"dataframe\">\n  <thead>\n    <tr style=\"text-align: right;\">\n      <th></th>\n      <th>Id</th>\n      <th>PostTypeId</th>\n      <th>AcceptedAnswerId</th>\n      <th>CreaionDate</th>\n      <th>Score</th>\n      <th>ViewCount</th>\n      <th>Body</th>\n      <th>OwnerUserId</th>\n      <th>LasActivityDate</th>\n      <th>Title</th>\n      <th>...</th>\n      <th>AnswerCount</th>\n      <th>CommentCount</th>\n      <th>FavoriteCount</th>\n      <th>LastEditorUserId</th>\n      <th>LastEditDate</th>\n      <th>CommunityOwnedDate</th>\n      <th>ParentId</th>\n      <th>ClosedDate</th>\n      <th>OwnerDisplayName</th>\n      <th>LastEditorDisplayName</th>\n    </tr>\n  </thead>\n  <tbody>\n    <tr>\n      <th>39995</th>\n      <td>48321</td>\n      <td>2</td>\n      <td>NaN</td>\n      <td>2013-01-23 09:00:01</td>\n      <td>0</td>\n      <td>NaN</td>\n      <td>&lt;p&gt;you can use the matlab codes for svm and co...</td>\n      <td>19966.0</td>\n      <td>2013-01-23 09:00:01</td>\n      <td>NaN</td>\n      <td>...</td>\n      <td>NaN</td>\n      <td>0</td>\n      <td>NaN</td>\n      <td>NaN</td>\n      <td>NaN</td>\n      <td>NaN</td>\n      <td>45118.0</td>\n      <td>NaN</td>\n      <td>NaN</td>\n      <td>NaN</td>\n    </tr>\n    <tr>\n      <th>39996</th>\n      <td>48322</td>\n      <td>2</td>\n      <td>NaN</td>\n      <td>2013-01-23 09:09:34</td>\n      <td>3</td>\n      <td>NaN</td>\n      <td>&lt;p&gt;I use &lt;a href=\"http://www.gnu.org/software/...</td>\n      <td>892.0</td>\n      <td>2013-01-23 13:13:30</td>\n      <td>NaN</td>\n      <td>...</td>\n      <td>NaN</td>\n      <td>2</td>\n      <td>NaN</td>\n      <td>892.0</td>\n      <td>2013-01-23 13:13:30</td>\n      <td>NaN</td>\n      <td>48311.0</td>\n      <td>NaN</td>\n      <td>NaN</td>\n      <td>NaN</td>\n    </tr>\n    <tr>\n      <th>39997</th>\n      <td>48323</td>\n      <td>2</td>\n      <td>NaN</td>\n      <td>2013-01-23 09:16:44</td>\n      <td>1</td>\n      <td>NaN</td>\n      <td>&lt;p&gt;If I understand your question correctly, yo...</td>\n      <td>2020.0</td>\n      <td>2013-01-23 09:16:44</td>\n      <td>NaN</td>\n      <td>...</td>\n      <td>NaN</td>\n      <td>0</td>\n      <td>NaN</td>\n      <td>NaN</td>\n      <td>NaN</td>\n      <td>NaN</td>\n      <td>48247.0</td>\n      <td>NaN</td>\n      <td>NaN</td>\n      <td>NaN</td>\n    </tr>\n    <tr>\n      <th>39998</th>\n      <td>48324</td>\n      <td>2</td>\n      <td>NaN</td>\n      <td>2013-01-23 09:36:07</td>\n      <td>3</td>\n      <td>NaN</td>\n      <td>&lt;p&gt;Doesn't really help you with your question,...</td>\n      <td>19914.0</td>\n      <td>2013-01-23 09:36:07</td>\n      <td>NaN</td>\n      <td>...</td>\n      <td>NaN</td>\n      <td>0</td>\n      <td>NaN</td>\n      <td>NaN</td>\n      <td>NaN</td>\n      <td>NaN</td>\n      <td>48297.0</td>\n      <td>NaN</td>\n      <td>NaN</td>\n      <td>NaN</td>\n    </tr>\n    <tr>\n      <th>39999</th>\n      <td>48325</td>\n      <td>1</td>\n      <td>NaN</td>\n      <td>2013-01-23 09:44:07</td>\n      <td>-1</td>\n      <td>116.0</td>\n      <td>&lt;p&gt;I have 10 vectors each having 100,000 point...</td>\n      <td>19968.0</td>\n      <td>2013-02-22 11:23:54</td>\n      <td>are data sets obtained from a Normal distribut...</td>\n      <td>...</td>\n      <td>2.0</td>\n      <td>4</td>\n      <td>NaN</td>\n      <td>NaN</td>\n      <td>NaN</td>\n      <td>NaN</td>\n      <td>NaN</td>\n      <td>NaN</td>\n      <td>NaN</td>\n      <td>NaN</td>\n    </tr>\n  </tbody>\n</table>\n<p>5 rows × 21 columns</p>\n</div>"
     },
     "metadata": {},
     "execution_count": 11
    }
   ],
   "source": [
    "pst = pd.read_csv('posts_table.csv')\n",
    "pst.tail()"
   ]
  },
  {
   "cell_type": "markdown",
   "metadata": {},
   "source": [
    "#### 5. Rename Id column to postId and OwnerUserId to userId"
   ]
  },
  {
   "cell_type": "code",
   "execution_count": 27,
   "metadata": {},
   "outputs": [
    {
     "output_type": "execute_result",
     "data": {
      "text/plain": "   postId  PostTypeId  AcceptedAnswerId          CreaionDate  Score  \\\n0       1           1              15.0  2010-07-19 19:12:12     23   \n\n   ViewCount                                               Body  userId  \\\n0     1278.0  <p>How should I elicit prior distributions fro...     8.0   \n\n       LasActivityDate                          Title  ... AnswerCount  \\\n0  2010-09-15 21:08:26  Eliciting priors from experts  ...         5.0   \n\n   CommentCount  FavoriteCount  LastEditorUserId  LastEditDate  \\\n0             1           14.0               NaN           NaN   \n\n  CommunityOwnedDate ParentId  ClosedDate OwnerDisplayName  \\\n0                NaN      NaN         NaN              NaN   \n\n  LastEditorDisplayName  \n0                   NaN  \n\n[1 rows x 21 columns]",
      "text/html": "<div>\n<style scoped>\n    .dataframe tbody tr th:only-of-type {\n        vertical-align: middle;\n    }\n\n    .dataframe tbody tr th {\n        vertical-align: top;\n    }\n\n    .dataframe thead th {\n        text-align: right;\n    }\n</style>\n<table border=\"1\" class=\"dataframe\">\n  <thead>\n    <tr style=\"text-align: right;\">\n      <th></th>\n      <th>postId</th>\n      <th>PostTypeId</th>\n      <th>AcceptedAnswerId</th>\n      <th>CreaionDate</th>\n      <th>Score</th>\n      <th>ViewCount</th>\n      <th>Body</th>\n      <th>userId</th>\n      <th>LasActivityDate</th>\n      <th>Title</th>\n      <th>...</th>\n      <th>AnswerCount</th>\n      <th>CommentCount</th>\n      <th>FavoriteCount</th>\n      <th>LastEditorUserId</th>\n      <th>LastEditDate</th>\n      <th>CommunityOwnedDate</th>\n      <th>ParentId</th>\n      <th>ClosedDate</th>\n      <th>OwnerDisplayName</th>\n      <th>LastEditorDisplayName</th>\n    </tr>\n  </thead>\n  <tbody>\n    <tr>\n      <th>0</th>\n      <td>1</td>\n      <td>1</td>\n      <td>15.0</td>\n      <td>2010-07-19 19:12:12</td>\n      <td>23</td>\n      <td>1278.0</td>\n      <td>&lt;p&gt;How should I elicit prior distributions fro...</td>\n      <td>8.0</td>\n      <td>2010-09-15 21:08:26</td>\n      <td>Eliciting priors from experts</td>\n      <td>...</td>\n      <td>5.0</td>\n      <td>1</td>\n      <td>14.0</td>\n      <td>NaN</td>\n      <td>NaN</td>\n      <td>NaN</td>\n      <td>NaN</td>\n      <td>NaN</td>\n      <td>NaN</td>\n      <td>NaN</td>\n    </tr>\n  </tbody>\n</table>\n<p>1 rows × 21 columns</p>\n</div>"
     },
     "metadata": {},
     "execution_count": 27
    }
   ],
   "source": [
    "pst = pst.rename(columns = {'Id':'postId', 'OwnerUserId':'userId'})\n",
    "pst.head(1)"
   ]
  },
  {
   "cell_type": "markdown",
   "metadata": {},
   "source": [
    "#### 6. Define new dataframes for users and posts with the following selected columns:\n",
    "    **users columns**: userId, Reputation,Views,UpVotes,DownVotes\n",
    "    **posts columns**: postId, Score,userId,ViewCount,CommentCount"
   ]
  },
  {
   "cell_type": "code",
   "execution_count": 21,
   "metadata": {},
   "outputs": [
    {
     "output_type": "execute_result",
     "data": {
      "text/plain": "       Reputation  Views  DownVotes  UpVotes  userId\n0               1      0       1920     5007      -1\n1             101     25          0        3       2\n2             101     22          0       19       3\n3             101     11          0        0       4\n4            6792   1145          5      662       5\n...           ...    ...        ...      ...     ...\n40320           1      0          0        0   55743\n40321           6      1          0        0   55744\n40322         101      0          0        0   55745\n40323         106      1          0        0   55746\n40324           1      0          0        0   55747\n\n[40325 rows x 5 columns]",
      "text/html": "<div>\n<style scoped>\n    .dataframe tbody tr th:only-of-type {\n        vertical-align: middle;\n    }\n\n    .dataframe tbody tr th {\n        vertical-align: top;\n    }\n\n    .dataframe thead th {\n        text-align: right;\n    }\n</style>\n<table border=\"1\" class=\"dataframe\">\n  <thead>\n    <tr style=\"text-align: right;\">\n      <th></th>\n      <th>Reputation</th>\n      <th>Views</th>\n      <th>DownVotes</th>\n      <th>UpVotes</th>\n      <th>userId</th>\n    </tr>\n  </thead>\n  <tbody>\n    <tr>\n      <th>0</th>\n      <td>1</td>\n      <td>0</td>\n      <td>1920</td>\n      <td>5007</td>\n      <td>-1</td>\n    </tr>\n    <tr>\n      <th>1</th>\n      <td>101</td>\n      <td>25</td>\n      <td>0</td>\n      <td>3</td>\n      <td>2</td>\n    </tr>\n    <tr>\n      <th>2</th>\n      <td>101</td>\n      <td>22</td>\n      <td>0</td>\n      <td>19</td>\n      <td>3</td>\n    </tr>\n    <tr>\n      <th>3</th>\n      <td>101</td>\n      <td>11</td>\n      <td>0</td>\n      <td>0</td>\n      <td>4</td>\n    </tr>\n    <tr>\n      <th>4</th>\n      <td>6792</td>\n      <td>1145</td>\n      <td>5</td>\n      <td>662</td>\n      <td>5</td>\n    </tr>\n    <tr>\n      <th>...</th>\n      <td>...</td>\n      <td>...</td>\n      <td>...</td>\n      <td>...</td>\n      <td>...</td>\n    </tr>\n    <tr>\n      <th>40320</th>\n      <td>1</td>\n      <td>0</td>\n      <td>0</td>\n      <td>0</td>\n      <td>55743</td>\n    </tr>\n    <tr>\n      <th>40321</th>\n      <td>6</td>\n      <td>1</td>\n      <td>0</td>\n      <td>0</td>\n      <td>55744</td>\n    </tr>\n    <tr>\n      <th>40322</th>\n      <td>101</td>\n      <td>0</td>\n      <td>0</td>\n      <td>0</td>\n      <td>55745</td>\n    </tr>\n    <tr>\n      <th>40323</th>\n      <td>106</td>\n      <td>1</td>\n      <td>0</td>\n      <td>0</td>\n      <td>55746</td>\n    </tr>\n    <tr>\n      <th>40324</th>\n      <td>1</td>\n      <td>0</td>\n      <td>0</td>\n      <td>0</td>\n      <td>55747</td>\n    </tr>\n  </tbody>\n</table>\n<p>40325 rows × 5 columns</p>\n</div>"
     },
     "metadata": {},
     "execution_count": 21
    }
   ],
   "source": [
    "users_columns = ust[{'userId', 'Reputation', 'Views', 'UpVotes', 'DownVotes'}]\n",
    "users_columns\n"
   ]
  },
  {
   "cell_type": "code",
   "execution_count": 29,
   "metadata": {},
   "outputs": [
    {
     "output_type": "execute_result",
     "data": {
      "text/plain": "   CommentCount  Score  ViewCount  postId  userId\n0             1     23     1278.0       1     8.0\n1             1     22     8198.0       2    24.0\n2             4     54     3613.0       3    18.0\n3             2     13     5224.0       4    23.0\n4             3     81        NaN       5    23.0",
      "text/html": "<div>\n<style scoped>\n    .dataframe tbody tr th:only-of-type {\n        vertical-align: middle;\n    }\n\n    .dataframe tbody tr th {\n        vertical-align: top;\n    }\n\n    .dataframe thead th {\n        text-align: right;\n    }\n</style>\n<table border=\"1\" class=\"dataframe\">\n  <thead>\n    <tr style=\"text-align: right;\">\n      <th></th>\n      <th>CommentCount</th>\n      <th>Score</th>\n      <th>ViewCount</th>\n      <th>postId</th>\n      <th>userId</th>\n    </tr>\n  </thead>\n  <tbody>\n    <tr>\n      <th>0</th>\n      <td>1</td>\n      <td>23</td>\n      <td>1278.0</td>\n      <td>1</td>\n      <td>8.0</td>\n    </tr>\n    <tr>\n      <th>1</th>\n      <td>1</td>\n      <td>22</td>\n      <td>8198.0</td>\n      <td>2</td>\n      <td>24.0</td>\n    </tr>\n    <tr>\n      <th>2</th>\n      <td>4</td>\n      <td>54</td>\n      <td>3613.0</td>\n      <td>3</td>\n      <td>18.0</td>\n    </tr>\n    <tr>\n      <th>3</th>\n      <td>2</td>\n      <td>13</td>\n      <td>5224.0</td>\n      <td>4</td>\n      <td>23.0</td>\n    </tr>\n    <tr>\n      <th>4</th>\n      <td>3</td>\n      <td>81</td>\n      <td>NaN</td>\n      <td>5</td>\n      <td>23.0</td>\n    </tr>\n  </tbody>\n</table>\n</div>"
     },
     "metadata": {},
     "execution_count": 29
    }
   ],
   "source": [
    "posts_columns = pst[{'postId', 'Score','userId', 'ViewCount' , 'CommentCount'}]\n",
    "posts_columns.head()"
   ]
  },
  {
   "cell_type": "markdown",
   "metadata": {},
   "source": [
    "#### 7. Merge both dataframes, users and posts. \n",
    "You will need to make a [merge](https://pandas.pydata.org/pandas-docs/stable/generated/pandas.DataFrame.merge.html) of posts and users dataframes."
   ]
  },
  {
   "cell_type": "code",
   "execution_count": 32,
   "metadata": {},
   "outputs": [
    {
     "output_type": "execute_result",
     "data": {
      "text/plain": "   Reputation  Views  DownVotes  UpVotes  userId  CommentCount  Score  \\\n0           1      0       1920     5007      -1             0      0   \n1           1      0       1920     5007      -1             0      0   \n2           1      0       1920     5007      -1             0      0   \n3           1      0       1920     5007      -1             0      0   \n4           1      0       1920     5007      -1             0      0   \n\n   ViewCount  postId  \n0        NaN    2175  \n1        NaN    8576  \n2        NaN    8578  \n3        NaN    8981  \n4        NaN    8982  ",
      "text/html": "<div>\n<style scoped>\n    .dataframe tbody tr th:only-of-type {\n        vertical-align: middle;\n    }\n\n    .dataframe tbody tr th {\n        vertical-align: top;\n    }\n\n    .dataframe thead th {\n        text-align: right;\n    }\n</style>\n<table border=\"1\" class=\"dataframe\">\n  <thead>\n    <tr style=\"text-align: right;\">\n      <th></th>\n      <th>Reputation</th>\n      <th>Views</th>\n      <th>DownVotes</th>\n      <th>UpVotes</th>\n      <th>userId</th>\n      <th>CommentCount</th>\n      <th>Score</th>\n      <th>ViewCount</th>\n      <th>postId</th>\n    </tr>\n  </thead>\n  <tbody>\n    <tr>\n      <th>0</th>\n      <td>1</td>\n      <td>0</td>\n      <td>1920</td>\n      <td>5007</td>\n      <td>-1</td>\n      <td>0</td>\n      <td>0</td>\n      <td>NaN</td>\n      <td>2175</td>\n    </tr>\n    <tr>\n      <th>1</th>\n      <td>1</td>\n      <td>0</td>\n      <td>1920</td>\n      <td>5007</td>\n      <td>-1</td>\n      <td>0</td>\n      <td>0</td>\n      <td>NaN</td>\n      <td>8576</td>\n    </tr>\n    <tr>\n      <th>2</th>\n      <td>1</td>\n      <td>0</td>\n      <td>1920</td>\n      <td>5007</td>\n      <td>-1</td>\n      <td>0</td>\n      <td>0</td>\n      <td>NaN</td>\n      <td>8578</td>\n    </tr>\n    <tr>\n      <th>3</th>\n      <td>1</td>\n      <td>0</td>\n      <td>1920</td>\n      <td>5007</td>\n      <td>-1</td>\n      <td>0</td>\n      <td>0</td>\n      <td>NaN</td>\n      <td>8981</td>\n    </tr>\n    <tr>\n      <th>4</th>\n      <td>1</td>\n      <td>0</td>\n      <td>1920</td>\n      <td>5007</td>\n      <td>-1</td>\n      <td>0</td>\n      <td>0</td>\n      <td>NaN</td>\n      <td>8982</td>\n    </tr>\n  </tbody>\n</table>\n</div>"
     },
     "metadata": {},
     "execution_count": 32
    }
   ],
   "source": [
    "df_pu = users_columns.merge(posts_columns)\n",
    "df_pu.head()"
   ]
  },
  {
   "cell_type": "markdown",
   "metadata": {},
   "source": [
    "#### 8. How many missing values do you have in your merged dataframe? On which columns?"
   ]
  },
  {
   "cell_type": "code",
   "execution_count": 41,
   "metadata": {
    "tags": []
   },
   "outputs": [
    {
     "output_type": "stream",
     "name": "stdout",
     "text": "Reputation          0\nViews               0\nDownVotes           0\nUpVotes             0\nuserId              0\nCommentCount        0\nScore               0\nViewCount       23572\npostId              0\ndtype: int64\nReputation          0\nViews            1150\nDownVotes       18036\nUpVotes          6472\nuserId              0\nCommentCount    14983\nScore            4652\nViewCount           0\npostId              0\ndtype: int64\nReputation       707\nViews           1189\nDownVotes       2242\nUpVotes         1270\nuserId             0\nCommentCount    6780\nScore           8030\nViewCount          0\npostId             1\ndtype: int64\n"
    }
   ],
   "source": [
    "null_values = df_pu.isnull().sum()\n",
    "zeros_count = df_pu[df_pu == 0].count()\n",
    "ones_count = df_pu[df_pu == 1].count() #Addicted on this rs!\n",
    "print(null_values)\n",
    "print(zeros_count)\n",
    "print(ones_count)"
   ]
  },
  {
   "cell_type": "markdown",
   "metadata": {},
   "source": [
    "#### 9. You will need to make something with missing values.  Will you clean or filling them? Explain. \n",
    "**Remember** to check the results of your code before passing to the next step"
   ]
  },
  {
   "cell_type": "code",
   "execution_count": 52,
   "metadata": {
    "tags": []
   },
   "outputs": [
    {
     "output_type": "execute_result",
     "data": {
      "text/plain": "   Reputation  Views  DownVotes  UpVotes  userId  CommentCount  Score  \\\n0           1      0       1920     5007      -1             0      0   \n1           1      0       1920     5007      -1             0      0   \n2           1      0       1920     5007      -1             0      0   \n3           1      0       1920     5007      -1             0      0   \n4           1      0       1920     5007      -1             0      0   \n\n   ViewCount  postId  \n0        0.0    2175  \n1        0.0    8576  \n2        0.0    8578  \n3        0.0    8981  \n4        0.0    8982  ",
      "text/html": "<div>\n<style scoped>\n    .dataframe tbody tr th:only-of-type {\n        vertical-align: middle;\n    }\n\n    .dataframe tbody tr th {\n        vertical-align: top;\n    }\n\n    .dataframe thead th {\n        text-align: right;\n    }\n</style>\n<table border=\"1\" class=\"dataframe\">\n  <thead>\n    <tr style=\"text-align: right;\">\n      <th></th>\n      <th>Reputation</th>\n      <th>Views</th>\n      <th>DownVotes</th>\n      <th>UpVotes</th>\n      <th>userId</th>\n      <th>CommentCount</th>\n      <th>Score</th>\n      <th>ViewCount</th>\n      <th>postId</th>\n    </tr>\n  </thead>\n  <tbody>\n    <tr>\n      <th>0</th>\n      <td>1</td>\n      <td>0</td>\n      <td>1920</td>\n      <td>5007</td>\n      <td>-1</td>\n      <td>0</td>\n      <td>0</td>\n      <td>0.0</td>\n      <td>2175</td>\n    </tr>\n    <tr>\n      <th>1</th>\n      <td>1</td>\n      <td>0</td>\n      <td>1920</td>\n      <td>5007</td>\n      <td>-1</td>\n      <td>0</td>\n      <td>0</td>\n      <td>0.0</td>\n      <td>8576</td>\n    </tr>\n    <tr>\n      <th>2</th>\n      <td>1</td>\n      <td>0</td>\n      <td>1920</td>\n      <td>5007</td>\n      <td>-1</td>\n      <td>0</td>\n      <td>0</td>\n      <td>0.0</td>\n      <td>8578</td>\n    </tr>\n    <tr>\n      <th>3</th>\n      <td>1</td>\n      <td>0</td>\n      <td>1920</td>\n      <td>5007</td>\n      <td>-1</td>\n      <td>0</td>\n      <td>0</td>\n      <td>0.0</td>\n      <td>8981</td>\n    </tr>\n    <tr>\n      <th>4</th>\n      <td>1</td>\n      <td>0</td>\n      <td>1920</td>\n      <td>5007</td>\n      <td>-1</td>\n      <td>0</td>\n      <td>0</td>\n      <td>0.0</td>\n      <td>8982</td>\n    </tr>\n  </tbody>\n</table>\n</div>"
     },
     "metadata": {},
     "execution_count": 52
    }
   ],
   "source": [
    "#Fill it's better because in this case analyze the number of users without comment, score or view can give some insight about how many users are acctualy \"using\".\n",
    "\n",
    "df_pu['ViewCount'] = df_pu['ViewCount'].fillna(0)\n",
    "df_pu.head()\n",
    "\n",
    "\n",
    "\n"
   ]
  },
  {
   "cell_type": "markdown",
   "metadata": {},
   "source": [
    "#### 10. Adjust the data types in order to avoid future issues. Which ones should be changed? "
   ]
  },
  {
   "cell_type": "code",
   "execution_count": 54,
   "metadata": {},
   "outputs": [
    {
     "output_type": "execute_result",
     "data": {
      "text/plain": "Reputation        int64\nViews             int64\nDownVotes         int64\nUpVotes           int64\nuserId            int64\nCommentCount      int64\nScore             int64\nViewCount       float64\npostId            int64\ndtype: object"
     },
     "metadata": {},
     "execution_count": 54
    }
   ],
   "source": [
    "df_pu.dtypes"
   ]
  },
  {
   "cell_type": "code",
   "execution_count": 55,
   "metadata": {},
   "outputs": [
    {
     "output_type": "execute_result",
     "data": {
      "text/plain": "Reputation       int64\nViews            int64\nDownVotes        int64\nUpVotes          int64\nuserId          object\nCommentCount     int64\nScore            int64\nViewCount        int64\npostId          object\ndtype: object"
     },
     "metadata": {},
     "execution_count": 55
    }
   ],
   "source": [
    "#ViewCount needs to be a Integer and userId and postId shoudn't be changed so it's better change dtype for object\n",
    "df_pu['userId'] = df_pu['userId'].astype('object')\n",
    "df_pu['postId'] = df_pu['postId'].astype('object')\n",
    "df_pu['ViewCount'] = df_pu['ViewCount'].astype('int64')\n",
    "df_pu.dtypes"
   ]
  },
  {
   "cell_type": "code",
   "execution_count": null,
   "metadata": {},
   "outputs": [],
   "source": []
  }
 ],
 "metadata": {
  "kernelspec": {
   "display_name": "Python 3",
   "language": "python",
   "name": "python3"
  },
  "language_info": {
   "codemirror_mode": {
    "name": "ipython",
    "version": 3
   },
   "file_extension": ".py",
   "mimetype": "text/x-python",
   "name": "python",
   "nbconvert_exporter": "python",
   "pygments_lexer": "ipython3",
   "version": "3.6.8"
  }
 },
 "nbformat": 4,
 "nbformat_minor": 2
}